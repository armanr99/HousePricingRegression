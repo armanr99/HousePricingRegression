{
 "cells": [
  {
   "cell_type": "markdown",
   "metadata": {},
   "source": [
    "# Vectorization\n",
    "\n",
    "Vectorization is the art of getting rid of explicit for loops in your code.\n",
    "This will allow your code to run much faster, which is crucial when training on large datasets, and will also simplify your code and make it easier to read. This is why the ability to perform vectorization has become a key skill in the era of deep learning.\n",
    "\n",
    "## so, what exactly is vectorization?\n",
    "\n",
    "Let's start with an example.\n",
    "Let's assume that you have two one dimensional vectors of size N = 1000000 (one million):"
   ]
  },
  {
   "cell_type": "code",
   "execution_count": 1,
   "metadata": {},
   "outputs": [],
   "source": [
    "import numpy as np\n",
    "\n",
    "N = 1000000\n",
    "a = np.random.rand(N)\n",
    "b = np.random.rand(N)"
   ]
  },
  {
   "cell_type": "markdown",
   "metadata": {},
   "source": [
    "And let's say that you want to compute the following expression:\n",
    "$$z = \\sum_{i=1}^{N}a_i * b_i$$\n",
    "A non-vectorized implementation might look like this:"
   ]
  },
  {
   "cell_type": "code",
   "execution_count": 2,
   "metadata": {},
   "outputs": [
    {
     "name": "stdout",
     "output_type": "stream",
     "text": [
      "250117.12647957294\n"
     ]
    }
   ],
   "source": [
    "z = 0\n",
    "for i in range(N):\n",
    "    z += a[i] * b[i]\n",
    "print(z)"
   ]
  },
  {
   "cell_type": "markdown",
   "metadata": {},
   "source": [
    "In contrast a vectorized implementation will just compute the expression above directly. <br/>\n",
    "To do that in numpy, all you have to do is:"
   ]
  },
  {
   "cell_type": "code",
   "execution_count": 3,
   "metadata": {},
   "outputs": [
    {
     "name": "stdout",
     "output_type": "stream",
     "text": [
      "250117.12647957134\n"
     ]
    }
   ],
   "source": [
    "z = np.dot(a,b)\n",
    "print(z)"
   ]
  },
  {
   "cell_type": "markdown",
   "metadata": {},
   "source": [
    "Note that the number printed by both cells are exactly the same, which shows that they are doing the exact same thing. <br/>\n",
    "Now remember that we said vectorization will make your code run much faster. Let's see that in action:"
   ]
  },
  {
   "cell_type": "code",
   "execution_count": 4,
   "metadata": {},
   "outputs": [
    {
     "name": "stdout",
     "output_type": "stream",
     "text": [
      "non-vectorized version computed 250117.12647957294 and took 444.0648555755615ms\n",
      "vectorized version computed 250117.12647957134 and took 0.7910728454589844ms\n"
     ]
    }
   ],
   "source": [
    "import time\n",
    "\n",
    "tic = time.time()\n",
    "z = 0\n",
    "for i in range(N):\n",
    "    z += a[i] * b[i]\n",
    "toc = time.time()\n",
    "print('non-vectorized version computed {} and took {}ms'.format(z, (toc-tic) * 1000))\n",
    "\n",
    "\n",
    "tic = time.time()\n",
    "z = np.dot(a,b)\n",
    "toc = time.time()\n",
    "print('vectorized version computed {} and took {}ms'.format(z, (toc-tic) * 1000))"
   ]
  },
  {
   "cell_type": "markdown",
   "metadata": {},
   "source": [
    "As you can see, the vectorized version is much quicker than the other version. So, if you remember to vectorize your code it will run roughly 300 times faster. That is the difference between your code taking **1 minute** to run, versus taking say **5 hours** to run. <br/>\n",
    "This speed-up is due to the optimized implementation of the numpy library:\n",
    "- Numpy arrays are densely packed arrays of homogenous type. Python arrays, however, are arrays of pointers to objects. So numpy arrays benefit from *locality of reference*.\n",
    "- Numpy operations are implemented in C, which use *SIMD* (Single instruction multiple data) instructions to benefit from parallelism. \n",
    "\n",
    "So, the key takeaway is:\n",
    "**<center>Whenever possible, avoid explicit for-loops.<center/>**\n"
   ]
  },
  {
   "cell_type": "markdown",
   "metadata": {},
   "source": [
    "## Exercise\n",
    "As an excercise, try to find the vectorized implementation of the following non-vectorized pieces of code.\n",
    "When delivering this project, you should have the completed version of this notebook with you. Add your code only in the area specified by *WRITE YOUR CODE HERE*, and do **NOT** change anywhere else."
   ]
  },
  {
   "cell_type": "code",
   "execution_count": 43,
   "metadata": {},
   "outputs": [
    {
     "name": "stdout",
     "output_type": "stream",
     "text": [
      "non-vectorized: [4.82425597e-01 1.85450936e-03 1.97460131e-04 1.39366656e-01\n",
      " 3.39160095e-01 2.57509126e-03 5.63132258e-02 3.97409111e-01\n",
      " 9.73008199e-01 4.18413074e-04]\n",
      "vectorized: [4.82425597e-01 1.85450936e-03 1.97460131e-04 1.39366656e-01\n",
      " 3.39160095e-01 2.57509126e-03 5.63132258e-02 3.97409111e-01\n",
      " 9.73008199e-01 4.18413074e-04]\n"
     ]
    }
   ],
   "source": [
    "v = np.random.rand(10)\n",
    "u = np.empty(10)\n",
    "\n",
    "# non-vectorized implementation:\n",
    "for i in range(10):\n",
    "    u[i] = v[i] ** 2\n",
    "print('non-vectorized:', u)\n",
    "\n",
    "# vectorized implementation:\n",
    "u = np.power(v, 2)\n",
    "\n",
    "print('vectorized:', u)"
   ]
  },
  {
   "cell_type": "code",
   "execution_count": 41,
   "metadata": {},
   "outputs": [
    {
     "name": "stdout",
     "output_type": "stream",
     "text": [
      "non-vectorized: 0.9220640446940458\n",
      "vectorized: 0.9220640446940458\n"
     ]
    }
   ],
   "source": [
    "v = np.random.rand(10)\n",
    "\n",
    "# non-vectorized implementation:\n",
    "u = float('-inf')\n",
    "for i in range(10):\n",
    "    if v[i] > u:\n",
    "        u  = v[i]\n",
    "print('non-vectorized:', u)\n",
    "\n",
    "# vectorized implementation:\n",
    "u = np.max(v)\n",
    "\n",
    "print('vectorized:', u)"
   ]
  },
  {
   "cell_type": "markdown",
   "metadata": {},
   "source": [
    "Vectorization isn't just suitable for calculating predefined functions. you can combine different numpy functions to create more complex ones. <br/>\n",
    "You should now have enough knowledge to write a vectorized code to compute the following expression (DO **NOT** use any for loops):\n",
    "$$u = \\frac{1}{N}\\sum_{i=1}^{N}|a_i - b_i|$$"
   ]
  },
  {
   "cell_type": "code",
   "execution_count": 38,
   "metadata": {},
   "outputs": [
    {
     "name": "stdout",
     "output_type": "stream",
     "text": [
      "non-vectorized: 2.6524298742562833e-06\n",
      "vectorized: 2.6524298742562833e-06\n"
     ]
    }
   ],
   "source": [
    "a = np.random.rand(10)\n",
    "b = np.random.rand(10)\n",
    "\n",
    "# non-vectorized implementation:\n",
    "u = 0\n",
    "for i in range(10):\n",
    "    u += abs(a[i] - b[i])\n",
    "u /= N\n",
    "print('non-vectorized:', u)\n",
    "        \n",
    "# vectorized implementation:\n",
    "u = np.divide(np.sum(np.abs(a - b)), N)\n",
    "\n",
    "print('vectorized:', u)"
   ]
  },
  {
   "cell_type": "markdown",
   "metadata": {},
   "source": [
    "# Sources:\n",
    "- [Neural Networks and Deep Learning: Coursera Course by Andrew NG](https://www.youtube.com/watch?v=qsIrQi0fzbY)"
   ]
  }
 ],
 "metadata": {
  "kernelspec": {
   "display_name": "Python 3",
   "language": "python",
   "name": "python3"
  },
  "language_info": {
   "codemirror_mode": {
    "name": "ipython",
    "version": 3
   },
   "file_extension": ".py",
   "mimetype": "text/x-python",
   "name": "python",
   "nbconvert_exporter": "python",
   "pygments_lexer": "ipython3",
   "version": "3.7.3"
  }
 },
 "nbformat": 4,
 "nbformat_minor": 2
}
